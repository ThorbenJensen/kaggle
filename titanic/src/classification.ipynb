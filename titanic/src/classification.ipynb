{
 "cells": [
  {
   "cell_type": "code",
   "execution_count": 2,
   "metadata": {
    "collapsed": true
   },
   "outputs": [],
   "source": [
    "# PACKAGES\n",
    "\n",
    "import pandas as pd\n",
    "from ggplot import *\n",
    "import scipy as sp\n",
    "import numpy as np\n",
    "from scipy import stats"
   ]
  },
  {
   "cell_type": "code",
   "execution_count": 3,
   "metadata": {
    "collapsed": true
   },
   "outputs": [],
   "source": [
    "# LOAD DATA\n",
    "\n",
    "train = pd.read_csv('../data/train.csv')"
   ]
  },
  {
   "cell_type": "code",
   "execution_count": 6,
   "metadata": {
    "collapsed": false
   },
   "outputs": [
    {
     "name": "stdout",
     "output_type": "stream",
     "text": [
      "Chi2 values for discrete variables:\n",
      "Pclass: 6.25846242353e-20\n",
      "Sex: 1.00367328214e-55\n",
      "SibSp: 0.000670965497493\n",
      "Parch: 0.0145540475868\n",
      "Embarked: 0.000180450581016\n"
     ]
    }
   ],
   "source": [
    "# CHI2-TESTS FOR FEATURES\n",
    "\n",
    "discrete_features = ['Pclass', 'Sex', 'SibSp', 'Parch', 'Embarked']\n",
    "\n",
    "def feature_chi2(feature_label):\n",
    "    ct = pd.crosstab(train['Survived'], train[feature_label], margins=True)\n",
    "    return sp.stats.chi2_contingency(ct)[1]\n",
    "\n",
    "print('Chi2 values for discrete variables:')\n",
    "for feature in discrete_features:\n",
    "    chi2 = feature_chi2(feature)\n",
    "    print(str(feature) + ': ' + str(chi2))"
   ]
  },
  {
   "cell_type": "code",
   "execution_count": 7,
   "metadata": {
    "collapsed": false
   },
   "outputs": [
    {
     "name": "stdout",
     "output_type": "stream",
     "text": [
      "For features AGE and FARE (price):\n",
      "Null-hypothesis of equal averages could not be rejected.\n"
     ]
    }
   ],
   "source": [
    "#%% BOXPLOTS AND INDEPENDENCE TESTS FOR CONTINUOUS FEATURES\n",
    "\n",
    "continuous_features = ['Age', 'Fare']\n",
    "\n",
    "ggplot(train, aes(x='Survived', y='Age')) + geom_boxplot()\n",
    "ggplot(train, aes(x='Survived', y='Fare')) + geom_boxplot()\n",
    "\n",
    "alive = train[(train.Survived == 1)]\n",
    "dead = train[(train.Survived == 1)]\n",
    "\n",
    "# Welch's t-test\n",
    "stats.ttest_ind(alive['Age'], dead['Age'], nan_policy='omit', equal_var=False)\n",
    "stats.ttest_ind(alive['Fare'], dead['Fare'], nan_policy='omit', \n",
    "                equal_var=False)\n",
    "\n",
    "# non-parametric 'ANOVA'\n",
    "stats.kruskal(alive['Age'], dead['Age'], nan_policy='omit')\n",
    "stats.kruskal(alive['Fare'], dead['Fare'], nan_policy='omit')\n",
    "\n",
    "print('For features AGE and FARE (price):')\n",
    "print('Null-hypothesis of equal averages could not be rejected.')\n"
   ]
  },
  {
   "cell_type": "code",
   "execution_count": 8,
   "metadata": {
    "collapsed": true
   },
   "outputs": [],
   "source": [
    "#%% SPLIT DATA IN X AND Y\n",
    "\n",
    "X = train[discrete_features + continuous_features]\n",
    "Y = train['Survived']"
   ]
  },
  {
   "cell_type": "code",
   "execution_count": 9,
   "metadata": {
    "collapsed": true
   },
   "outputs": [],
   "source": [
    "#%% TRAIN DECISION TREES\n",
    "\n",
    "# TODO\n",
    "\n",
    "#%% RULE EXTRACTION FROM TREES\n",
    "\n",
    "# TODO\n",
    "\n",
    "#%% CHECKING FOR MULTICOLLINEARITY IN FEATURES\n",
    "\n",
    "# TODO\n",
    "\n",
    "#%% LOGISTIC REGRESSION\n",
    "\n",
    "# TODO\n"
   ]
  },
  {
   "cell_type": "code",
   "execution_count": null,
   "metadata": {
    "collapsed": true
   },
   "outputs": [],
   "source": []
  }
 ],
 "metadata": {
  "kernelspec": {
   "display_name": "Python 3",
   "language": "python",
   "name": "python3"
  },
  "language_info": {
   "codemirror_mode": {
    "name": "ipython",
    "version": 3
   },
   "file_extension": ".py",
   "mimetype": "text/x-python",
   "name": "python",
   "nbconvert_exporter": "python",
   "pygments_lexer": "ipython3",
   "version": "3.5.2"
  }
 },
 "nbformat": 4,
 "nbformat_minor": 0
}
